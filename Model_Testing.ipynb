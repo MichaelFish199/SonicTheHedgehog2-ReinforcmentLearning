{
 "cells": [
  {
   "cell_type": "markdown",
   "id": "4bab3462",
   "metadata": {},
   "source": [
    "# Environment Setup"
   ]
  },
  {
   "cell_type": "code",
   "execution_count": null,
   "id": "090886f1",
   "metadata": {},
   "outputs": [],
   "source": [
    "#!pip install gym gym-retro, opencv-python"
   ]
  },
  {
   "cell_type": "code",
   "execution_count": 1,
   "id": "b62c1688",
   "metadata": {},
   "outputs": [],
   "source": [
    "# PPO algorythm\n",
    "from stable_baselines3 import PPO\n",
    "# Eval policy method for metric calculation\n",
    "from stable_baselines3.common.evaluation import evaluate_policy\n",
    "# Monitor for logging \n",
    "from stable_baselines3.common.monitor import Monitor\n",
    "# Vec wrappers to vectorize and frame stack\n",
    "from stable_baselines3.common.vec_env import DummyVecEnv, VecFrameStack\n",
    "# Import os to deal with filepaths\n",
    "import os"
   ]
  },
  {
   "cell_type": "code",
   "execution_count": 2,
   "id": "e92489e3",
   "metadata": {},
   "outputs": [
    {
     "name": "stdout",
     "output_type": "stream",
     "text": [
      "Importing SonicTheHedgehog2-Genesis\n",
      "Imported 1 games\n"
     ]
    }
   ],
   "source": [
    "# Running Environment_Setup.ipynb to download ROM and setup custom Sonic environment.\n",
    "%run Environment_Setup.ipynb"
   ]
  },
  {
   "cell_type": "code",
   "execution_count": 3,
   "id": "42102af7",
   "metadata": {},
   "outputs": [],
   "source": [
    "# Create environment \n",
    "env = Sonic()\n",
    "env.level(0)\n",
    "env = ActionDiscretizer(env)\n",
    "env = DummyVecEnv([lambda: env])\n",
    "env = VecFrameStack(env, 4, channels_order='last')"
   ]
  },
  {
   "cell_type": "markdown",
   "id": "0c13cfd6",
   "metadata": {},
   "source": [
    "# Testing Model"
   ]
  },
  {
   "cell_type": "code",
   "execution_count": 15,
   "id": "66d4c186",
   "metadata": {},
   "outputs": [],
   "source": [
    "model = PPO.load(\"train/old_gen/PPO_Sonic_lvl0\")"
   ]
  },
  {
   "cell_type": "code",
   "execution_count": null,
   "id": "a83c479f",
   "metadata": {},
   "outputs": [
    {
     "name": "stdout",
     "output_type": "stream",
     "text": [
      "[0.]\n",
      "[0.85500026]\n",
      "[1.3229983]\n",
      "[1.4579974]\n",
      "[101.72804]\n",
      "[116.610306]\n",
      "[131.47456]\n",
      "[187.83467]\n",
      "[187.83467]\n",
      "[188.05974]\n",
      "[288.94202]\n",
      "[403.2301]\n",
      "[403.2571]\n",
      "[403.2571]\n",
      "[403.2571]\n",
      "[403.2571]\n",
      "[403.5092]\n",
      "[404.39145]\n",
      "[405.01263]\n",
      "[447.9129]\n",
      "[504.63312]\n",
      "[505.17328]\n",
      "[519.86426]\n",
      "[520.7525]\n",
      "[521.64075]\n",
      "[577.92786]\n",
      "[577.92786]\n",
      "[577.9458]\n",
      "[577.9458]\n",
      "[577.9458]\n",
      "[577.9458]\n",
      "[577.9458]\n",
      "[577.9458]\n",
      "[605.96375]\n",
      "[605.96375]\n"
     ]
    }
   ],
   "source": [
    "# Importing sleep to slow down gameii\n",
    "from time import sleep\n",
    "\n",
    "# Game\n",
    "obs = env.reset()\n",
    "result = 0 \n",
    "\n",
    "for i in range(9_200):\n",
    "    action, _ = model.predict(obs) \n",
    "    obs, reward, done, info = env.step(action)\n",
    "    result += reward\n",
    "    env.render()\n",
    "    if i % 100 ==  0:\n",
    "        print(result)\n",
    "    sleep(0.0000001)\n",
    "\n",
    "print(\"/nshape of screen = \", env.observation_space.sample().shape)\n",
    "print(\"information about environment = \", info)\n",
    "print(\"action space = \", env.action_space.sample())\n",
    "print(\"total score = \", result)"
   ]
  },
  {
   "cell_type": "markdown",
   "id": "045f8f6a",
   "metadata": {},
   "source": [
    "# Testing Model On Many Levels"
   ]
  },
  {
   "cell_type": "code",
   "execution_count": null,
   "id": "79ee9457",
   "metadata": {},
   "outputs": [],
   "source": [
    "# Deleting environment\n",
    "env.close()\n",
    "del env"
   ]
  },
  {
   "cell_type": "code",
   "execution_count": null,
   "id": "0eee8f23",
   "metadata": {},
   "outputs": [],
   "source": [
    "# Game in every level [0,1,9,10,11,14,16]\n",
    "for i in [8]:\n",
    "    env = Sonic()\n",
    "    env.level(i)\n",
    "    env = ActionDiscretizer(env)\n",
    "    env = DummyVecEnv([lambda: env])\n",
    "    env = VecFrameStack(env, 4, channels_order='last')\n",
    "    obs = env.reset()\n",
    "    \n",
    "    for i in range(3_000):\n",
    "        action, _ = model.predict(obs) \n",
    "        obs, reward, done, info = env.step(action)\n",
    "        env.render()\n",
    "        \n",
    "    env.close()\n",
    "    del env"
   ]
  },
  {
   "cell_type": "code",
   "execution_count": null,
   "id": "b2ff6880",
   "metadata": {},
   "outputs": [],
   "source": []
  }
 ],
 "metadata": {
  "kernelspec": {
   "display_name": "Python 3 (ipykernel)",
   "language": "python",
   "name": "python3"
  },
  "language_info": {
   "codemirror_mode": {
    "name": "ipython",
    "version": 3
   },
   "file_extension": ".py",
   "mimetype": "text/x-python",
   "name": "python",
   "nbconvert_exporter": "python",
   "pygments_lexer": "ipython3",
   "version": "3.8.13"
  }
 },
 "nbformat": 4,
 "nbformat_minor": 5
}
