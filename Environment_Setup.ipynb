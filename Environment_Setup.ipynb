{
 "cells": [
  {
   "cell_type": "markdown",
   "metadata": {},
   "source": [
    "# Environment Setup"
   ]
  },
  {
   "cell_type": "code",
   "execution_count": null,
   "metadata": {},
   "outputs": [],
   "source": [
    "#!pip install opencv-python, gym gym-retro "
   ]
  },
  {
   "cell_type": "code",
   "execution_count": 1,
   "metadata": {
    "id": "ycmf3kIx9xPW"
   },
   "outputs": [],
   "source": [
    "# Import retro to load ROM\n",
    "import retro\n",
    "# Import environment base class for a wrapper \n",
    "from gym import Env, ActionWrapper\n",
    "# Import the space shapes for the environment\n",
    "from gym.spaces import Box, Discrete\n",
    "# Import numpy to calculate frame delta \n",
    "import numpy as np\n",
    "# Import opencv for grayscaling\n",
    "import cv2"
   ]
  },
  {
   "cell_type": "code",
   "execution_count": 2,
   "metadata": {
    "id": "ieGEgk4k9y7G"
   },
   "outputs": [
    {
     "name": "stdout",
     "output_type": "stream",
     "text": [
      "Importing SonicTheHedgehog2-Genesis\n",
      "Imported 1 games\n"
     ]
    }
   ],
   "source": [
    "# Importing ROM\n",
    "!python -m retro.import ."
   ]
  },
  {
   "cell_type": "code",
   "execution_count": 3,
   "metadata": {},
   "outputs": [],
   "source": [
    "class ActionDiscretizer(ActionWrapper):\n",
    "    def __init__(self,env):\n",
    "        super(ActionDiscretizer, self).__init__(env)\n",
    "        buttons = [\"B\", \"A\", \"MODE\", \"START\", \"UP\", \"DOWN\", \"LEFT\", \"RIGHT\", \"C\", \"Y\", \"X\", \"Z\"]\n",
    "        actions = [[\"LEFT\"], [\"RIGHT\"], [\"LEFT\", \"DOWN\"], [\"RIGHT\", \"DOWN\"], [\"DOWN\"], [\"DOWN\", \"B\"], [\"B\"]]\n",
    "        self._actions = []\n",
    "        \n",
    "        for action in actions:\n",
    "            arr = np.array([False] * 12)\n",
    "            for button in action:\n",
    "                arr[buttons.index(button)] = True\n",
    "            self._actions.append(arr)\n",
    "        self.action_space = Discrete(len(self._actions))\n",
    "        \n",
    "    def action(self, a):\n",
    "        return self._actions[a].copy()"
   ]
  },
  {
   "cell_type": "code",
   "execution_count": 4,
   "metadata": {
    "id": "UwvbToxM91zc"
   },
   "outputs": [],
   "source": [
    "# Creating custom environment \n",
    "class Sonic(Env): \n",
    "    \n",
    "    def __init__(self):\n",
    "        super().__init__()    \n",
    "        # Specify observation space \n",
    "        self.observation_space = Box(low=0, high=255, shape=(100, 100, 1), dtype=np.uint8)\n",
    "        # Startup and instance of the game \n",
    "        self.game = retro.make('SonicTheHedgehog2-Genesis',)\n",
    "    \n",
    "    \n",
    "    def level(self, num):\n",
    "        # takes number form 0 to 16\n",
    "        sonic_levels = {\n",
    "        0: 'EmeraldHillZone.Act1',\n",
    "        1: 'EmeraldHillZone.Act2',\n",
    "        2: 'ChemicalPlantZone.Act1',\n",
    "        3: 'ChemicalPlantZone.Act2',\n",
    "        4: 'AquaticRuinZone.Act1',\n",
    "        5: 'AquaticRuinZone.Act2',\n",
    "        6: 'CasinoNightZone.Act1',\n",
    "        7: 'CasinoNightZone.Act2',\n",
    "        8: 'HillTopZone.Act1',\n",
    "        9: 'HillTopZone.Act2',\n",
    "        10: 'MysticCaveZone.Act1',\n",
    "        11: 'MysticCaveZone.Act2',\n",
    "        12: 'OilOceanZone.Act1',\n",
    "        13: 'OilOceanZone.Act2',\n",
    "        14: 'MetropolisZone.Act1',\n",
    "        15: 'MetropolisZone.Act2',\n",
    "        16: 'MetropolisZone.Act3'}\n",
    "        # changes level\n",
    "        self.game.load_state(sonic_levels[num])\n",
    "    \n",
    "    \n",
    "    def step(self, action):\n",
    "        # Take a step \n",
    "        obs, reward, done, info = self.game.step(action)\n",
    "        obs = self.preprocess(obs)\n",
    "\n",
    "        # ***Reward shaping***       \n",
    "        x, lives, finishing_level, rings, kils = info[\"x\"], info[\"lives\"], info[\"level_end_bonus\"], info[\"rings\"], info[\"score\"]\n",
    "        \n",
    "        if x > self.x_farthest:\n",
    "            moving_reward = 1 # moving forward\n",
    "            self.x_farthest = x\n",
    "            self.i = 0 \n",
    "        else:\n",
    "            moving_reward = 0 # moving backward\n",
    "            self.i += 1\n",
    "            \n",
    "        # If agent is not making any progress for n frames\n",
    "        if self.i > 2000: # 30sec\n",
    "            moving_reward = -1 # penalty\n",
    "        \n",
    "        lives_lost_delta = - self.lives + lives\n",
    "        self.lives = lives\n",
    "        rings_delta = rings - self.rings\n",
    "        self.rings = rings\n",
    "        kils_delta = kils - self.kils\n",
    "        self.kils = kils\n",
    "                \n",
    "        reward = moving_reward*0.009 + rings_delta*14 + kils_delta*10 + finishing_level + lives_lost_delta*10\n",
    "                 \n",
    "\n",
    "        return obs, reward, done, info\n",
    "    \n",
    "    \n",
    "    def reset(self):\n",
    "        # Create game variables\n",
    "        self.x_farthest = 96\n",
    "        self.lives = 3\n",
    "        self.rings = 0\n",
    "        self.kils = 0\n",
    "        self.i = 0\n",
    "        \n",
    "        # Return the first frame \n",
    "        obs = self.game.reset()\n",
    "        obs = self.preprocess(obs) \n",
    "        \n",
    "        return obs\n",
    "    \n",
    "    \n",
    "    def preprocess(self, observation): \n",
    "        # Grayscaling \n",
    "        gray = cv2.cvtColor(observation, cv2.COLOR_BGR2GRAY)\n",
    "        # Resize \n",
    "        resize = cv2.resize(gray, (100,100), interpolation=cv2.INTER_CUBIC)\n",
    "        # Add the channels value\n",
    "        channels = np.reshape(resize, (100,100,1))\n",
    "        return channels \n",
    "    \n",
    "    \n",
    "    def render(self, *args, **kwargs):\n",
    "        self.game.render()\n",
    "        \n",
    "        \n",
    "    def close(self):\n",
    "        self.game.close()"
   ]
  },
  {
   "cell_type": "markdown",
   "metadata": {},
   "source": [
    "# Testing Environment"
   ]
  },
  {
   "cell_type": "code",
   "execution_count": null,
   "metadata": {},
   "outputs": [],
   "source": [
    "\"\"\"\n",
    "# Game with random actions\n",
    "\n",
    "# Creating environment\n",
    "env = Sonic()\n",
    "env = ActionDiscretizer(env)\n",
    "env.level(1)\n",
    "# Importing sleep to slow down game\n",
    "from time import sleep\n",
    "\n",
    "obs = env.reset()\n",
    "result = 0 \n",
    "\n",
    "for i in range(1_000):\n",
    "    action = env.action_space.sample()\n",
    "    obs, reward, done, info = env.step(action)\n",
    "    result += reward\n",
    "    env.render()\n",
    "    sleep(0.001)\n",
    "    i += 1\n",
    "    if i % 50 == 0:\n",
    "        result += reward\n",
    "        print(result)\n",
    "\"\"\""
   ]
  },
  {
   "cell_type": "code",
   "execution_count": null,
   "metadata": {},
   "outputs": [],
   "source": [
    "\"\"\"\n",
    "print(\"/nshape of screen = \", env.observation_space.sample().shape)\n",
    "print(\"total score = \", result)\n",
    "\n",
    "from stable_baselines3.common.vec_env import DummyVecEnv, VecFrameStack\n",
    "import matplotlib.pyplot as plt\n",
    "\n",
    "env = DummyVecEnv([lambda: env])\n",
    "env = VecFrameStack(env, 4, channels_order='last')\n",
    "\n",
    "plt.figure(figsize=(16,9))\n",
    "\n",
    "# Skipping some first black frames\n",
    "for _ in range(6):\n",
    "    obs, reward, done, info = env.step([env.action_space.sample()])\n",
    "# Displaying 4 frames as movement\n",
    "for i in range(obs.shape[3]):\n",
    "    obs, reward, done, info = env.step([env.action_space.sample()])\n",
    "    plt.subplot(1,4,i+1)\n",
    "    plt.imshow(obs[0][:,:,i])\n",
    "plt.show();\n",
    "\"\"\""
   ]
  }
 ],
 "metadata": {
  "colab": {
   "authorship_tag": "ABX9TyN/6HCpeg4P6miqYNvFyCcX",
   "collapsed_sections": [],
   "provenance": []
  },
  "kernelspec": {
   "display_name": "Python 3 (ipykernel)",
   "language": "python",
   "name": "python3"
  },
  "language_info": {
   "codemirror_mode": {
    "name": "ipython",
    "version": 3
   },
   "file_extension": ".py",
   "mimetype": "text/x-python",
   "name": "python",
   "nbconvert_exporter": "python",
   "pygments_lexer": "ipython3",
   "version": "3.8.13"
  }
 },
 "nbformat": 4,
 "nbformat_minor": 1
}
