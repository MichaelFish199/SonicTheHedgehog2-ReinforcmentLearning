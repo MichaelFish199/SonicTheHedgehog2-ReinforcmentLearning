{
 "cells": [
  {
   "cell_type": "markdown",
   "id": "fc04e4f7",
   "metadata": {
    "id": "fc04e4f7"
   },
   "source": [
    "# Environment Setup"
   ]
  },
  {
   "cell_type": "code",
   "execution_count": 1,
   "id": "28525bc3",
   "metadata": {
    "colab": {
     "base_uri": "https://localhost:8080/"
    },
    "executionInfo": {
     "elapsed": 998,
     "status": "ok",
     "timestamp": 1667153695347,
     "user": {
      "displayName": "Mikołaj Ryba",
      "userId": "04098073077406352224"
     },
     "user_tz": -60
    },
    "id": "28525bc3",
    "outputId": "ba932199-f2ac-4e85-aa29-2435824e6f46"
   },
   "outputs": [],
   "source": [
    "#!pip install gym gym-retro\n",
    "#!pip install opencv-python"
   ]
  },
  {
   "cell_type": "code",
   "execution_count": 2,
   "id": "cb3295e2",
   "metadata": {
    "id": "cb3295e2"
   },
   "outputs": [
    {
     "name": "stdout",
     "output_type": "stream",
     "text": [
      "Importing SonicTheHedgehog2-Genesis\n",
      "Imported 1 games\n"
     ]
    }
   ],
   "source": [
    "# Running Environment_Setup.ipynb to download ROM and setup custom Sonic environment.\n",
    "%run Environment_Setup.ipynb"
   ]
  },
  {
   "cell_type": "markdown",
   "id": "55da27ff",
   "metadata": {
    "id": "55da27ff"
   },
   "source": [
    "# Hyperparameter Search"
   ]
  },
  {
   "cell_type": "code",
   "execution_count": 3,
   "id": "8eb676f3",
   "metadata": {
    "id": "8eb676f3"
   },
   "outputs": [],
   "source": [
    "#!pip install stable-baselines3[extra] optuna"
   ]
  },
  {
   "cell_type": "code",
   "execution_count": 4,
   "id": "dcfd6a0b",
   "metadata": {
    "id": "dcfd6a0b"
   },
   "outputs": [],
   "source": [
    "# Searching for best parameters\n",
    "import optuna\n",
    "# PPO algorythm\n",
    "from stable_baselines3 import PPO\n",
    "# Eval policy method for metric calculation\n",
    "from stable_baselines3.common.evaluation import evaluate_policy\n",
    "# Monitor for logging \n",
    "from stable_baselines3.common.monitor import Monitor\n",
    "# Vec wrappers to vectorize and frame stack\n",
    "from stable_baselines3.common.vec_env import DummyVecEnv, VecFrameStack\n",
    "# To deal with filepaths\n",
    "import os"
   ]
  },
  {
   "cell_type": "code",
   "execution_count": 5,
   "id": "f74955b4",
   "metadata": {
    "id": "f74955b4"
   },
   "outputs": [],
   "source": [
    "LOG_DIR = './logs/'\n",
    "OPT_DIR = './opt/'"
   ]
  },
  {
   "cell_type": "code",
   "execution_count": 6,
   "id": "63137465",
   "metadata": {
    "id": "63137465"
   },
   "outputs": [],
   "source": [
    "# Function to return test hyperparameters - define the object function\n",
    "def optimize_ppo(trial):\n",
    "    return {\n",
    "        'gamma': trial.suggest_float('gamma', 0.98, 0.999, log=True),\n",
    "        'n_steps': trial.suggest_int('n_steps', 4096, 16_384, 2048),\n",
    "        'learning_rate': trial.suggest_float('learning_rate', 5e-8, 9e-6),\n",
    "        'clip_range': trial.suggest_float('clip_range', 0.10, 0.24),\n",
    "        'gae_lambda': trial.suggest_float('gae_lambda', 0.98, 0.99)\n",
    "    }"
   ]
  },
  {
   "cell_type": "code",
   "execution_count": 8,
   "id": "bc5154ec",
   "metadata": {
    "id": "bc5154ec"
   },
   "outputs": [],
   "source": [
    "# Run a training loop and return mean reward \n",
    "def optimize_agent(trial):\n",
    "    model_params = optimize_ppo(trial) \n",
    "\n",
    "    # Create environment \n",
    "    env = Sonic()\n",
    "    env = ActionDiscretizer(env)\n",
    "    env = Monitor(env, LOG_DIR)\n",
    "    env = DummyVecEnv([lambda: env])\n",
    "    env = VecFrameStack(env, 4, channels_order='last')\n",
    "\n",
    "    # Create model \n",
    "    model = PPO('CnnPolicy', env, tensorboard_log=LOG_DIR, verbose=0, **model_params)\n",
    "    model.set_parameters(\"train/old_gen/PPO-Sonic-Agent1\")\n",
    "    model.learn(total_timesteps=1_400_000)\n",
    "\n",
    "    # Evaluate model \n",
    "    mean_reward, _ = evaluate_policy(model, env, n_eval_episodes=1)\n",
    "    env.close()\n",
    "\n",
    "    SAVE_PATH = os.path.join(OPT_DIR, 'trial_{}_best_model'.format(trial.number))\n",
    "    model.save(SAVE_PATH)\n",
    "\n",
    "    return mean_reward"
   ]
  },
  {
   "cell_type": "code",
   "execution_count": null,
   "id": "987a4976",
   "metadata": {
    "id": "987a4976"
   },
   "outputs": [
    {
     "name": "stderr",
     "output_type": "stream",
     "text": [
      "\u001b[32m[I 2022-11-21 07:45:23,768]\u001b[0m A new study created in memory with name: no-name-77355664-01f4-449c-b409-5fb8ca38ddd3\u001b[0m\n",
      "\u001b[32m[I 2022-11-21 10:29:17,144]\u001b[0m Trial 0 finished with value: -1089.2 and parameters: {'gamma': 0.9956193908499814, 'n_steps': 10240, 'learning_rate': 1.3846472113026198e-06, 'clip_range': 0.11181817995205309, 'gae_lambda': 0.9837323249216188}. Best is trial 0 with value: -1089.2.\u001b[0m\n",
      "\u001b[32m[I 2022-11-21 14:00:15,255]\u001b[0m Trial 1 finished with value: -1146.21 and parameters: {'gamma': 0.9837511303348656, 'n_steps': 6144, 'learning_rate': 6.880575471085832e-06, 'clip_range': 0.15161587643785795, 'gae_lambda': 0.9837665274982914}. Best is trial 0 with value: -1089.2.\u001b[0m\n"
     ]
    }
   ],
   "source": [
    "# Creating the experiment\n",
    "study = optuna.create_study(direction='maximize')\n",
    "study.optimize(optimize_agent, n_trials=40, n_jobs=1, timeout=60*60*42)"
   ]
  },
  {
   "cell_type": "code",
   "execution_count": null,
   "id": "70b8b3bf",
   "metadata": {
    "id": "70b8b3bf"
   },
   "outputs": [],
   "source": [
    "# Ploting history of trials\n",
    "optuna.visualization.plot_optimization_history(study)"
   ]
  },
  {
   "cell_type": "code",
   "execution_count": null,
   "id": "465dac14",
   "metadata": {
    "id": "465dac14"
   },
   "outputs": [],
   "source": [
    "# Plotting most important parameters that influence score of our agent\n",
    "optuna.visualization.plot_param_importances(study, target_name=\"score\")"
   ]
  },
  {
   "cell_type": "code",
   "execution_count": null,
   "id": "bd91df6b",
   "metadata": {
    "id": "bd91df6b"
   },
   "outputs": [],
   "source": [
    "# Plotting scatter plots of every parameter\n",
    "optuna.visualization.plot_slice(study, params=study.best_params.keys(), target_name=\"score\")"
   ]
  },
  {
   "cell_type": "code",
   "execution_count": null,
   "id": "f89eaa01",
   "metadata": {
    "id": "f89eaa01"
   },
   "outputs": [],
   "source": [
    "# Plotting countour plot that shows coorelation between parameters\n",
    "optuna.visualization.plot_contour(study, target_name=\"score\")"
   ]
  },
  {
   "cell_type": "code",
   "execution_count": null,
   "id": "efc00f45",
   "metadata": {
    "id": "efc00f45"
   },
   "outputs": [],
   "source": [
    "# Getting best parameters to train our agent\n",
    "best_trial = study.best_trial\n",
    "best_trial"
   ]
  }
 ],
 "metadata": {
  "colab": {
   "collapsed_sections": [],
   "provenance": []
  },
  "kernelspec": {
   "display_name": "Python 3 (ipykernel)",
   "language": "python",
   "name": "python3"
  },
  "language_info": {
   "codemirror_mode": {
    "name": "ipython",
    "version": 3
   },
   "file_extension": ".py",
   "mimetype": "text/x-python",
   "name": "python",
   "nbconvert_exporter": "python",
   "pygments_lexer": "ipython3",
   "version": "3.8.13"
  }
 },
 "nbformat": 4,
 "nbformat_minor": 5
}
